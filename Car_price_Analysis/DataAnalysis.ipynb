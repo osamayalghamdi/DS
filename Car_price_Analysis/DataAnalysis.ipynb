{
  "cells": [
    {
      "cell_type": "code",
      "execution_count": 2,
      "metadata": {},
      "outputs": [],
      "source": [
        "import pandas as pd\n",
        "from skimpy import skim\n"
      ]
    },
    {
      "cell_type": "code",
      "execution_count": 3,
      "metadata": {
        "colab": {
          "base_uri": "https://localhost:8080/",
          "height": 206
        },
        "id": "3hK50c8di4px",
        "outputId": "52ad75c5-be18-4157-bc15-7bc127a54e58"
      },
      "outputs": [
        {
          "data": {
            "text/html": [
              "<div>\n",
              "<style scoped>\n",
              "    .dataframe tbody tr th:only-of-type {\n",
              "        vertical-align: middle;\n",
              "    }\n",
              "\n",
              "    .dataframe tbody tr th {\n",
              "        vertical-align: top;\n",
              "    }\n",
              "\n",
              "    .dataframe thead th {\n",
              "        text-align: right;\n",
              "    }\n",
              "</style>\n",
              "<table border=\"1\" class=\"dataframe\">\n",
              "  <thead>\n",
              "    <tr style=\"text-align: right;\">\n",
              "      <th></th>\n",
              "      <th>Brand</th>\n",
              "      <th>Model</th>\n",
              "      <th>Year</th>\n",
              "      <th>Engine_Size</th>\n",
              "      <th>Fuel_Type</th>\n",
              "      <th>Transmission</th>\n",
              "      <th>Mileage</th>\n",
              "      <th>Doors</th>\n",
              "      <th>Owner_Count</th>\n",
              "      <th>Price</th>\n",
              "    </tr>\n",
              "  </thead>\n",
              "  <tbody>\n",
              "    <tr>\n",
              "      <th>0</th>\n",
              "      <td>Kia</td>\n",
              "      <td>Rio</td>\n",
              "      <td>2020</td>\n",
              "      <td>4.2</td>\n",
              "      <td>Diesel</td>\n",
              "      <td>Manual</td>\n",
              "      <td>289944</td>\n",
              "      <td>3</td>\n",
              "      <td>5</td>\n",
              "      <td>8501</td>\n",
              "    </tr>\n",
              "    <tr>\n",
              "      <th>1</th>\n",
              "      <td>Chevrolet</td>\n",
              "      <td>Malibu</td>\n",
              "      <td>2012</td>\n",
              "      <td>2.0</td>\n",
              "      <td>Hybrid</td>\n",
              "      <td>Automatic</td>\n",
              "      <td>5356</td>\n",
              "      <td>2</td>\n",
              "      <td>3</td>\n",
              "      <td>12092</td>\n",
              "    </tr>\n",
              "    <tr>\n",
              "      <th>2</th>\n",
              "      <td>Mercedes</td>\n",
              "      <td>GLA</td>\n",
              "      <td>2020</td>\n",
              "      <td>4.2</td>\n",
              "      <td>Diesel</td>\n",
              "      <td>Automatic</td>\n",
              "      <td>231440</td>\n",
              "      <td>4</td>\n",
              "      <td>2</td>\n",
              "      <td>11171</td>\n",
              "    </tr>\n",
              "    <tr>\n",
              "      <th>3</th>\n",
              "      <td>Audi</td>\n",
              "      <td>Q5</td>\n",
              "      <td>2023</td>\n",
              "      <td>2.0</td>\n",
              "      <td>Electric</td>\n",
              "      <td>Manual</td>\n",
              "      <td>160971</td>\n",
              "      <td>2</td>\n",
              "      <td>1</td>\n",
              "      <td>11780</td>\n",
              "    </tr>\n",
              "    <tr>\n",
              "      <th>4</th>\n",
              "      <td>Volkswagen</td>\n",
              "      <td>Golf</td>\n",
              "      <td>2003</td>\n",
              "      <td>2.6</td>\n",
              "      <td>Hybrid</td>\n",
              "      <td>Semi-Automatic</td>\n",
              "      <td>286618</td>\n",
              "      <td>3</td>\n",
              "      <td>3</td>\n",
              "      <td>2867</td>\n",
              "    </tr>\n",
              "  </tbody>\n",
              "</table>\n",
              "</div>"
            ],
            "text/plain": [
              "        Brand   Model  Year  Engine_Size Fuel_Type    Transmission  Mileage  \\\n",
              "0         Kia     Rio  2020          4.2    Diesel          Manual   289944   \n",
              "1   Chevrolet  Malibu  2012          2.0    Hybrid       Automatic     5356   \n",
              "2    Mercedes     GLA  2020          4.2    Diesel       Automatic   231440   \n",
              "3        Audi      Q5  2023          2.0  Electric          Manual   160971   \n",
              "4  Volkswagen    Golf  2003          2.6    Hybrid  Semi-Automatic   286618   \n",
              "\n",
              "   Doors  Owner_Count  Price  \n",
              "0      3            5   8501  \n",
              "1      2            3  12092  \n",
              "2      4            2  11171  \n",
              "3      2            1  11780  \n",
              "4      3            3   2867  "
            ]
          },
          "execution_count": 3,
          "metadata": {},
          "output_type": "execute_result"
        }
      ],
      "source": [
        "df = pd.read_csv('car_price_dataset.csv')  # Use the correct file name\n",
        "df.head()"
      ]
    },
    {
      "cell_type": "markdown",
      "metadata": {
        "id": "_EKpTir2lxwb"
      },
      "source": [
        "# New Section"
      ]
    },
    {
      "cell_type": "markdown",
      "metadata": {
        "id": "IRVv6FRRn7dz"
      },
      "source": [
        "let's describe the data first"
      ]
    },
    {
      "cell_type": "code",
      "execution_count": 4,
      "metadata": {
        "colab": {
          "base_uri": "https://localhost:8080/",
          "height": 300
        },
        "id": "SXebwpgPlH3_",
        "outputId": "f926c49e-2a71-4bb9-a4b4-85b898c602f1"
      },
      "outputs": [
        {
          "data": {
            "text/html": [
              "<div>\n",
              "<style scoped>\n",
              "    .dataframe tbody tr th:only-of-type {\n",
              "        vertical-align: middle;\n",
              "    }\n",
              "\n",
              "    .dataframe tbody tr th {\n",
              "        vertical-align: top;\n",
              "    }\n",
              "\n",
              "    .dataframe thead th {\n",
              "        text-align: right;\n",
              "    }\n",
              "</style>\n",
              "<table border=\"1\" class=\"dataframe\">\n",
              "  <thead>\n",
              "    <tr style=\"text-align: right;\">\n",
              "      <th></th>\n",
              "      <th>Year</th>\n",
              "      <th>Engine_Size</th>\n",
              "      <th>Mileage</th>\n",
              "      <th>Doors</th>\n",
              "      <th>Owner_Count</th>\n",
              "      <th>Price</th>\n",
              "    </tr>\n",
              "  </thead>\n",
              "  <tbody>\n",
              "    <tr>\n",
              "      <th>count</th>\n",
              "      <td>10000.000000</td>\n",
              "      <td>10000.000000</td>\n",
              "      <td>10000.000000</td>\n",
              "      <td>10000.000000</td>\n",
              "      <td>10000.000000</td>\n",
              "      <td>10000.00000</td>\n",
              "    </tr>\n",
              "    <tr>\n",
              "      <th>mean</th>\n",
              "      <td>2011.543700</td>\n",
              "      <td>3.000560</td>\n",
              "      <td>149239.111800</td>\n",
              "      <td>3.497100</td>\n",
              "      <td>2.991100</td>\n",
              "      <td>8852.96440</td>\n",
              "    </tr>\n",
              "    <tr>\n",
              "      <th>std</th>\n",
              "      <td>6.897699</td>\n",
              "      <td>1.149324</td>\n",
              "      <td>86322.348957</td>\n",
              "      <td>1.110097</td>\n",
              "      <td>1.422682</td>\n",
              "      <td>3112.59681</td>\n",
              "    </tr>\n",
              "    <tr>\n",
              "      <th>min</th>\n",
              "      <td>2000.000000</td>\n",
              "      <td>1.000000</td>\n",
              "      <td>25.000000</td>\n",
              "      <td>2.000000</td>\n",
              "      <td>1.000000</td>\n",
              "      <td>2000.00000</td>\n",
              "    </tr>\n",
              "    <tr>\n",
              "      <th>25%</th>\n",
              "      <td>2006.000000</td>\n",
              "      <td>2.000000</td>\n",
              "      <td>74649.250000</td>\n",
              "      <td>3.000000</td>\n",
              "      <td>2.000000</td>\n",
              "      <td>6646.00000</td>\n",
              "    </tr>\n",
              "    <tr>\n",
              "      <th>50%</th>\n",
              "      <td>2012.000000</td>\n",
              "      <td>3.000000</td>\n",
              "      <td>149587.000000</td>\n",
              "      <td>3.000000</td>\n",
              "      <td>3.000000</td>\n",
              "      <td>8858.50000</td>\n",
              "    </tr>\n",
              "    <tr>\n",
              "      <th>75%</th>\n",
              "      <td>2017.000000</td>\n",
              "      <td>4.000000</td>\n",
              "      <td>223577.500000</td>\n",
              "      <td>4.000000</td>\n",
              "      <td>4.000000</td>\n",
              "      <td>11086.50000</td>\n",
              "    </tr>\n",
              "    <tr>\n",
              "      <th>max</th>\n",
              "      <td>2023.000000</td>\n",
              "      <td>5.000000</td>\n",
              "      <td>299947.000000</td>\n",
              "      <td>5.000000</td>\n",
              "      <td>5.000000</td>\n",
              "      <td>18301.00000</td>\n",
              "    </tr>\n",
              "  </tbody>\n",
              "</table>\n",
              "</div>"
            ],
            "text/plain": [
              "               Year   Engine_Size        Mileage         Doors   Owner_Count  \\\n",
              "count  10000.000000  10000.000000   10000.000000  10000.000000  10000.000000   \n",
              "mean    2011.543700      3.000560  149239.111800      3.497100      2.991100   \n",
              "std        6.897699      1.149324   86322.348957      1.110097      1.422682   \n",
              "min     2000.000000      1.000000      25.000000      2.000000      1.000000   \n",
              "25%     2006.000000      2.000000   74649.250000      3.000000      2.000000   \n",
              "50%     2012.000000      3.000000  149587.000000      3.000000      3.000000   \n",
              "75%     2017.000000      4.000000  223577.500000      4.000000      4.000000   \n",
              "max     2023.000000      5.000000  299947.000000      5.000000      5.000000   \n",
              "\n",
              "             Price  \n",
              "count  10000.00000  \n",
              "mean    8852.96440  \n",
              "std     3112.59681  \n",
              "min     2000.00000  \n",
              "25%     6646.00000  \n",
              "50%     8858.50000  \n",
              "75%    11086.50000  \n",
              "max    18301.00000  "
            ]
          },
          "execution_count": 4,
          "metadata": {},
          "output_type": "execute_result"
        }
      ],
      "source": [
        "df.describe()"
      ]
    },
    {
      "cell_type": "code",
      "execution_count": 5,
      "metadata": {
        "colab": {
          "base_uri": "https://localhost:8080/"
        },
        "id": "-zMq1lB5nTfS",
        "outputId": "0731f775-1262-491f-a455-daf58d96f020"
      },
      "outputs": [
        {
          "name": "stdout",
          "output_type": "stream",
          "text": [
            "<class 'pandas.core.frame.DataFrame'>\n",
            "RangeIndex: 10000 entries, 0 to 9999\n",
            "Data columns (total 10 columns):\n",
            " #   Column        Non-Null Count  Dtype  \n",
            "---  ------        --------------  -----  \n",
            " 0   Brand         10000 non-null  object \n",
            " 1   Model         10000 non-null  object \n",
            " 2   Year          10000 non-null  int64  \n",
            " 3   Engine_Size   10000 non-null  float64\n",
            " 4   Fuel_Type     10000 non-null  object \n",
            " 5   Transmission  10000 non-null  object \n",
            " 6   Mileage       10000 non-null  int64  \n",
            " 7   Doors         10000 non-null  int64  \n",
            " 8   Owner_Count   10000 non-null  int64  \n",
            " 9   Price         10000 non-null  int64  \n",
            "dtypes: float64(1), int64(5), object(4)\n",
            "memory usage: 781.4+ KB\n"
          ]
        }
      ],
      "source": [
        "df.info()"
      ]
    },
    {
      "cell_type": "markdown",
      "metadata": {
        "id": "cu1wtFnMn2X5"
      },
      "source": [
        "let's chack if there is any missing values"
      ]
    },
    {
      "cell_type": "code",
      "execution_count": 6,
      "metadata": {
        "colab": {
          "base_uri": "https://localhost:8080/"
        },
        "id": "IW-FS4GUnscc",
        "outputId": "d65ecb61-7509-4075-ead0-e6ba19f95506"
      },
      "outputs": [
        {
          "name": "stdout",
          "output_type": "stream",
          "text": [
            "Brand           0\n",
            "Model           0\n",
            "Year            0\n",
            "Engine_Size     0\n",
            "Fuel_Type       0\n",
            "Transmission    0\n",
            "Mileage         0\n",
            "Doors           0\n",
            "Owner_Count     0\n",
            "Price           0\n",
            "dtype: int64\n"
          ]
        }
      ],
      "source": [
        "missing_values = df.isnull().sum()\n",
        "print(missing_values)"
      ]
    },
    {
      "cell_type": "code",
      "execution_count": 8,
      "metadata": {
        "colab": {
          "base_uri": "https://localhost:8080/",
          "height": 405
        },
        "id": "PCUKSoX_oe4A",
        "outputId": "9551b503-e920-4f4c-dffc-59ceba1c7b05"
      },
      "outputs": [
        {
          "data": {
            "text/html": [
              "<pre style=\"white-space:pre;overflow-x:auto;line-height:normal;font-family:Menlo,'DejaVu Sans Mono',consolas,'Courier New',monospace\">╭──────────────────────────────────────────────── skimpy summary ─────────────────────────────────────────────────╮\n",
              "│ <span style=\"font-style: italic\">         Data Summary         </span> <span style=\"font-style: italic\">      Data Types       </span>                                                          │\n",
              "│ ┏━━━━━━━━━━━━━━━━━━━┳━━━━━━━━┓ ┏━━━━━━━━━━━━━┳━━━━━━━┓                                                          │\n",
              "│ ┃<span style=\"color: #008080; text-decoration-color: #008080; font-weight: bold\"> Dataframe         </span>┃<span style=\"color: #008080; text-decoration-color: #008080; font-weight: bold\"> Values </span>┃ ┃<span style=\"color: #008080; text-decoration-color: #008080; font-weight: bold\"> Column Type </span>┃<span style=\"color: #008080; text-decoration-color: #008080; font-weight: bold\"> Count </span>┃                                                          │\n",
              "│ ┡━━━━━━━━━━━━━━━━━━━╇━━━━━━━━┩ ┡━━━━━━━━━━━━━╇━━━━━━━┩                                                          │\n",
              "│ │ Number of rows    │ 10000  │ │ int64       │ 5     │                                                          │\n",
              "│ │ Number of columns │ 10     │ │ string      │ 4     │                                                          │\n",
              "│ └───────────────────┴────────┘ │ float64     │ 1     │                                                          │\n",
              "│                                └─────────────┴───────┘                                                          │\n",
              "│ <span style=\"font-style: italic\">                                                    number                                                    </span>  │\n",
              "│ ┏━━━━━━━━━━━━━━━━┳━━━━━┳━━━━━━━┳━━━━━━━━━━┳━━━━━━━━━┳━━━━━━━┳━━━━━━━━┳━━━━━━━━━┳━━━━━━━━━┳━━━━━━━━━┳━━━━━━━━━┓  │\n",
              "│ ┃<span style=\"font-weight: bold\"> column         </span>┃<span style=\"font-weight: bold\"> NA  </span>┃<span style=\"font-weight: bold\"> NA %  </span>┃<span style=\"font-weight: bold\"> mean     </span>┃<span style=\"font-weight: bold\"> sd      </span>┃<span style=\"font-weight: bold\"> p0    </span>┃<span style=\"font-weight: bold\"> p25    </span>┃<span style=\"font-weight: bold\"> p50     </span>┃<span style=\"font-weight: bold\"> p75     </span>┃<span style=\"font-weight: bold\"> p100    </span>┃<span style=\"font-weight: bold\"> hist    </span>┃  │\n",
              "│ ┡━━━━━━━━━━━━━━━━╇━━━━━╇━━━━━━━╇━━━━━━━━━━╇━━━━━━━━━╇━━━━━━━╇━━━━━━━━╇━━━━━━━━━╇━━━━━━━━━╇━━━━━━━━━╇━━━━━━━━━┩  │\n",
              "│ │ <span style=\"color: #af87ff; text-decoration-color: #af87ff\">Year          </span> │ <span style=\"color: #008080; text-decoration-color: #008080\">  0</span> │ <span style=\"color: #008080; text-decoration-color: #008080\">    0</span> │ <span style=\"color: #008080; text-decoration-color: #008080\">    2012</span> │ <span style=\"color: #008080; text-decoration-color: #008080\">  6.898</span> │ <span style=\"color: #008080; text-decoration-color: #008080\"> 2000</span> │ <span style=\"color: #008080; text-decoration-color: #008080\">  2006</span> │ <span style=\"color: #008080; text-decoration-color: #008080\">   2012</span> │ <span style=\"color: #008080; text-decoration-color: #008080\">   2017</span> │ <span style=\"color: #008080; text-decoration-color: #008080\">   2023</span> │ <span style=\"color: #008000; text-decoration-color: #008000\">▇▇▇▇▇▇ </span> │  │\n",
              "│ │ <span style=\"color: #af87ff; text-decoration-color: #af87ff\">Engine_Size   </span> │ <span style=\"color: #008080; text-decoration-color: #008080\">  0</span> │ <span style=\"color: #008080; text-decoration-color: #008080\">    0</span> │ <span style=\"color: #008080; text-decoration-color: #008080\">   3.001</span> │ <span style=\"color: #008080; text-decoration-color: #008080\">  1.149</span> │ <span style=\"color: #008080; text-decoration-color: #008080\">    1</span> │ <span style=\"color: #008080; text-decoration-color: #008080\">     2</span> │ <span style=\"color: #008080; text-decoration-color: #008080\">      3</span> │ <span style=\"color: #008080; text-decoration-color: #008080\">      4</span> │ <span style=\"color: #008080; text-decoration-color: #008080\">      5</span> │ <span style=\"color: #008000; text-decoration-color: #008000\">▇▇▇▇▇▇ </span> │  │\n",
              "│ │ <span style=\"color: #af87ff; text-decoration-color: #af87ff\">Mileage       </span> │ <span style=\"color: #008080; text-decoration-color: #008080\">  0</span> │ <span style=\"color: #008080; text-decoration-color: #008080\">    0</span> │ <span style=\"color: #008080; text-decoration-color: #008080\">  149200</span> │ <span style=\"color: #008080; text-decoration-color: #008080\">  86320</span> │ <span style=\"color: #008080; text-decoration-color: #008080\">   25</span> │ <span style=\"color: #008080; text-decoration-color: #008080\"> 74650</span> │ <span style=\"color: #008080; text-decoration-color: #008080\"> 149600</span> │ <span style=\"color: #008080; text-decoration-color: #008080\"> 223600</span> │ <span style=\"color: #008080; text-decoration-color: #008080\"> 299900</span> │ <span style=\"color: #008000; text-decoration-color: #008000\">▇▇▇▇▇▇ </span> │  │\n",
              "│ │ <span style=\"color: #af87ff; text-decoration-color: #af87ff\">Doors         </span> │ <span style=\"color: #008080; text-decoration-color: #008080\">  0</span> │ <span style=\"color: #008080; text-decoration-color: #008080\">    0</span> │ <span style=\"color: #008080; text-decoration-color: #008080\">   3.497</span> │ <span style=\"color: #008080; text-decoration-color: #008080\">   1.11</span> │ <span style=\"color: #008080; text-decoration-color: #008080\">    2</span> │ <span style=\"color: #008080; text-decoration-color: #008080\">     3</span> │ <span style=\"color: #008080; text-decoration-color: #008080\">      3</span> │ <span style=\"color: #008080; text-decoration-color: #008080\">      4</span> │ <span style=\"color: #008080; text-decoration-color: #008080\">      5</span> │ <span style=\"color: #008000; text-decoration-color: #008000\">▇ ▇ ▇▇ </span> │  │\n",
              "│ │ <span style=\"color: #af87ff; text-decoration-color: #af87ff\">Owner_Count   </span> │ <span style=\"color: #008080; text-decoration-color: #008080\">  0</span> │ <span style=\"color: #008080; text-decoration-color: #008080\">    0</span> │ <span style=\"color: #008080; text-decoration-color: #008080\">   2.991</span> │ <span style=\"color: #008080; text-decoration-color: #008080\">  1.423</span> │ <span style=\"color: #008080; text-decoration-color: #008080\">    1</span> │ <span style=\"color: #008080; text-decoration-color: #008080\">     2</span> │ <span style=\"color: #008080; text-decoration-color: #008080\">      3</span> │ <span style=\"color: #008080; text-decoration-color: #008080\">      4</span> │ <span style=\"color: #008080; text-decoration-color: #008080\">      5</span> │ <span style=\"color: #008000; text-decoration-color: #008000\">▇▇ ▇▇▇ </span> │  │\n",
              "│ │ <span style=\"color: #af87ff; text-decoration-color: #af87ff\">Price         </span> │ <span style=\"color: #008080; text-decoration-color: #008080\">  0</span> │ <span style=\"color: #008080; text-decoration-color: #008080\">    0</span> │ <span style=\"color: #008080; text-decoration-color: #008080\">    8853</span> │ <span style=\"color: #008080; text-decoration-color: #008080\">   3113</span> │ <span style=\"color: #008080; text-decoration-color: #008080\"> 2000</span> │ <span style=\"color: #008080; text-decoration-color: #008080\">  6646</span> │ <span style=\"color: #008080; text-decoration-color: #008080\">   8858</span> │ <span style=\"color: #008080; text-decoration-color: #008080\">  11090</span> │ <span style=\"color: #008080; text-decoration-color: #008080\">  18300</span> │ <span style=\"color: #008000; text-decoration-color: #008000\"> ▃▆▇▆▂ </span> │  │\n",
              "│ └────────────────┴─────┴───────┴──────────┴─────────┴───────┴────────┴─────────┴─────────┴─────────┴─────────┘  │\n",
              "│ <span style=\"font-style: italic\">                                                    string                                                    </span>  │\n",
              "│ ┏━━━━━━━━━━━┳━━━━┳━━━━━━┳━━━━━━━━━━┳━━━━━━━━━━━┳━━━━━━━━━━━┳━━━━━━━━━━━┳━━━━━━━━━━━━┳━━━━━━━━━━━┳━━━━━━━━━━━━┓  │\n",
              "│ ┃<span style=\"font-weight: bold\">           </span>┃<span style=\"font-weight: bold\">    </span>┃<span style=\"font-weight: bold\">      </span>┃<span style=\"font-weight: bold\">          </span>┃<span style=\"font-weight: bold\">           </span>┃<span style=\"font-weight: bold\">           </span>┃<span style=\"font-weight: bold\">           </span>┃<span style=\"font-weight: bold\"> chars per  </span>┃<span style=\"font-weight: bold\"> words per </span>┃<span style=\"font-weight: bold\"> total      </span>┃  │\n",
              "│ ┃<span style=\"font-weight: bold\"> column    </span>┃<span style=\"font-weight: bold\"> NA </span>┃<span style=\"font-weight: bold\"> NA % </span>┃<span style=\"font-weight: bold\"> shortest </span>┃<span style=\"font-weight: bold\"> longest   </span>┃<span style=\"font-weight: bold\"> min       </span>┃<span style=\"font-weight: bold\"> max       </span>┃<span style=\"font-weight: bold\"> row        </span>┃<span style=\"font-weight: bold\"> row       </span>┃<span style=\"font-weight: bold\"> words      </span>┃  │\n",
              "│ ┡━━━━━━━━━━━╇━━━━╇━━━━━━╇━━━━━━━━━━╇━━━━━━━━━━━╇━━━━━━━━━━━╇━━━━━━━━━━━╇━━━━━━━━━━━━╇━━━━━━━━━━━╇━━━━━━━━━━━━┩  │\n",
              "│ │ <span style=\"color: #af87ff; text-decoration-color: #af87ff\">Brand    </span> │ <span style=\"color: #008080; text-decoration-color: #008080\"> 0</span> │ <span style=\"color: #008080; text-decoration-color: #008080\">   0</span> │ <span style=\"color: #af87ff; text-decoration-color: #af87ff\">Kia     </span> │ <span style=\"color: #af87ff; text-decoration-color: #af87ff\">Volkswage</span> │ <span style=\"color: #af87ff; text-decoration-color: #af87ff\">Audi     </span> │ <span style=\"color: #af87ff; text-decoration-color: #af87ff\">Volkswage</span> │ <span style=\"color: #008080; text-decoration-color: #008080\">      5.89</span> │ <span style=\"color: #008080; text-decoration-color: #008080\">        1</span> │ <span style=\"color: #008080; text-decoration-color: #008080\">     10000</span> │  │\n",
              "│ │           │    │      │          │ <span style=\"color: #af87ff; text-decoration-color: #af87ff\">n        </span> │           │ <span style=\"color: #af87ff; text-decoration-color: #af87ff\">n        </span> │            │           │            │  │\n",
              "│ │ <span style=\"color: #af87ff; text-decoration-color: #af87ff\">Model    </span> │ <span style=\"color: #008080; text-decoration-color: #008080\"> 0</span> │ <span style=\"color: #008080; text-decoration-color: #008080\">   0</span> │ <span style=\"color: #af87ff; text-decoration-color: #af87ff\">Q5      </span> │ <span style=\"color: #af87ff; text-decoration-color: #af87ff\">Sportage </span> │ <span style=\"color: #af87ff; text-decoration-color: #af87ff\">3 Series </span> │ <span style=\"color: #af87ff; text-decoration-color: #af87ff\">X5       </span> │ <span style=\"color: #008080; text-decoration-color: #008080\">       5.4</span> │ <span style=\"color: #008080; text-decoration-color: #008080\">      1.1</span> │ <span style=\"color: #008080; text-decoration-color: #008080\">     10688</span> │  │\n",
              "│ │ <span style=\"color: #af87ff; text-decoration-color: #af87ff\">Fuel_Type</span> │ <span style=\"color: #008080; text-decoration-color: #008080\"> 0</span> │ <span style=\"color: #008080; text-decoration-color: #008080\">   0</span> │ <span style=\"color: #af87ff; text-decoration-color: #af87ff\">Diesel  </span> │ <span style=\"color: #af87ff; text-decoration-color: #af87ff\">Electric </span> │ <span style=\"color: #af87ff; text-decoration-color: #af87ff\">Diesel   </span> │ <span style=\"color: #af87ff; text-decoration-color: #af87ff\">Petrol   </span> │ <span style=\"color: #008080; text-decoration-color: #008080\">      6.53</span> │ <span style=\"color: #008080; text-decoration-color: #008080\">        1</span> │ <span style=\"color: #008080; text-decoration-color: #008080\">     10000</span> │  │\n",
              "│ │ <span style=\"color: #af87ff; text-decoration-color: #af87ff\">Transmiss</span> │ <span style=\"color: #008080; text-decoration-color: #008080\"> 0</span> │ <span style=\"color: #008080; text-decoration-color: #008080\">   0</span> │ <span style=\"color: #af87ff; text-decoration-color: #af87ff\">Manual  </span> │ <span style=\"color: #af87ff; text-decoration-color: #af87ff\">Semi-Auto</span> │ <span style=\"color: #af87ff; text-decoration-color: #af87ff\">Automatic</span> │ <span style=\"color: #af87ff; text-decoration-color: #af87ff\">Semi-Auto</span> │ <span style=\"color: #008080; text-decoration-color: #008080\">      9.64</span> │ <span style=\"color: #008080; text-decoration-color: #008080\">        1</span> │ <span style=\"color: #008080; text-decoration-color: #008080\">     10000</span> │  │\n",
              "│ │ <span style=\"color: #af87ff; text-decoration-color: #af87ff\">ion      </span> │    │      │          │ <span style=\"color: #af87ff; text-decoration-color: #af87ff\">matic    </span> │           │ <span style=\"color: #af87ff; text-decoration-color: #af87ff\">matic    </span> │            │           │            │  │\n",
              "│ └───────────┴────┴──────┴──────────┴───────────┴───────────┴───────────┴────────────┴───────────┴────────────┘  │\n",
              "╰────────────────────────────────────────────────────── End ──────────────────────────────────────────────────────╯\n",
              "</pre>\n"
            ],
            "text/plain": [
              "╭──────────────────────────────────────────────── skimpy summary ─────────────────────────────────────────────────╮\n",
              "│ \u001b[3m         Data Summary         \u001b[0m \u001b[3m      Data Types       \u001b[0m                                                          │\n",
              "│ ┏━━━━━━━━━━━━━━━━━━━┳━━━━━━━━┓ ┏━━━━━━━━━━━━━┳━━━━━━━┓                                                          │\n",
              "│ ┃\u001b[1;36m \u001b[0m\u001b[1;36mDataframe        \u001b[0m\u001b[1;36m \u001b[0m┃\u001b[1;36m \u001b[0m\u001b[1;36mValues\u001b[0m\u001b[1;36m \u001b[0m┃ ┃\u001b[1;36m \u001b[0m\u001b[1;36mColumn Type\u001b[0m\u001b[1;36m \u001b[0m┃\u001b[1;36m \u001b[0m\u001b[1;36mCount\u001b[0m\u001b[1;36m \u001b[0m┃                                                          │\n",
              "│ ┡━━━━━━━━━━━━━━━━━━━╇━━━━━━━━┩ ┡━━━━━━━━━━━━━╇━━━━━━━┩                                                          │\n",
              "│ │ Number of rows    │ 10000  │ │ int64       │ 5     │                                                          │\n",
              "│ │ Number of columns │ 10     │ │ string      │ 4     │                                                          │\n",
              "│ └───────────────────┴────────┘ │ float64     │ 1     │                                                          │\n",
              "│                                └─────────────┴───────┘                                                          │\n",
              "│ \u001b[3m                                                    number                                                    \u001b[0m  │\n",
              "│ ┏━━━━━━━━━━━━━━━━┳━━━━━┳━━━━━━━┳━━━━━━━━━━┳━━━━━━━━━┳━━━━━━━┳━━━━━━━━┳━━━━━━━━━┳━━━━━━━━━┳━━━━━━━━━┳━━━━━━━━━┓  │\n",
              "│ ┃\u001b[1m \u001b[0m\u001b[1mcolumn        \u001b[0m\u001b[1m \u001b[0m┃\u001b[1m \u001b[0m\u001b[1mNA \u001b[0m\u001b[1m \u001b[0m┃\u001b[1m \u001b[0m\u001b[1mNA % \u001b[0m\u001b[1m \u001b[0m┃\u001b[1m \u001b[0m\u001b[1mmean    \u001b[0m\u001b[1m \u001b[0m┃\u001b[1m \u001b[0m\u001b[1msd     \u001b[0m\u001b[1m \u001b[0m┃\u001b[1m \u001b[0m\u001b[1mp0   \u001b[0m\u001b[1m \u001b[0m┃\u001b[1m \u001b[0m\u001b[1mp25   \u001b[0m\u001b[1m \u001b[0m┃\u001b[1m \u001b[0m\u001b[1mp50    \u001b[0m\u001b[1m \u001b[0m┃\u001b[1m \u001b[0m\u001b[1mp75    \u001b[0m\u001b[1m \u001b[0m┃\u001b[1m \u001b[0m\u001b[1mp100   \u001b[0m\u001b[1m \u001b[0m┃\u001b[1m \u001b[0m\u001b[1mhist   \u001b[0m\u001b[1m \u001b[0m┃  │\n",
              "│ ┡━━━━━━━━━━━━━━━━╇━━━━━╇━━━━━━━╇━━━━━━━━━━╇━━━━━━━━━╇━━━━━━━╇━━━━━━━━╇━━━━━━━━━╇━━━━━━━━━╇━━━━━━━━━╇━━━━━━━━━┩  │\n",
              "│ │ \u001b[38;5;141mYear          \u001b[0m │ \u001b[36m  0\u001b[0m │ \u001b[36m    0\u001b[0m │ \u001b[36m    2012\u001b[0m │ \u001b[36m  6.898\u001b[0m │ \u001b[36m 2000\u001b[0m │ \u001b[36m  2006\u001b[0m │ \u001b[36m   2012\u001b[0m │ \u001b[36m   2017\u001b[0m │ \u001b[36m   2023\u001b[0m │ \u001b[32m▇▇▇▇▇▇ \u001b[0m │  │\n",
              "│ │ \u001b[38;5;141mEngine_Size   \u001b[0m │ \u001b[36m  0\u001b[0m │ \u001b[36m    0\u001b[0m │ \u001b[36m   3.001\u001b[0m │ \u001b[36m  1.149\u001b[0m │ \u001b[36m    1\u001b[0m │ \u001b[36m     2\u001b[0m │ \u001b[36m      3\u001b[0m │ \u001b[36m      4\u001b[0m │ \u001b[36m      5\u001b[0m │ \u001b[32m▇▇▇▇▇▇ \u001b[0m │  │\n",
              "│ │ \u001b[38;5;141mMileage       \u001b[0m │ \u001b[36m  0\u001b[0m │ \u001b[36m    0\u001b[0m │ \u001b[36m  149200\u001b[0m │ \u001b[36m  86320\u001b[0m │ \u001b[36m   25\u001b[0m │ \u001b[36m 74650\u001b[0m │ \u001b[36m 149600\u001b[0m │ \u001b[36m 223600\u001b[0m │ \u001b[36m 299900\u001b[0m │ \u001b[32m▇▇▇▇▇▇ \u001b[0m │  │\n",
              "│ │ \u001b[38;5;141mDoors         \u001b[0m │ \u001b[36m  0\u001b[0m │ \u001b[36m    0\u001b[0m │ \u001b[36m   3.497\u001b[0m │ \u001b[36m   1.11\u001b[0m │ \u001b[36m    2\u001b[0m │ \u001b[36m     3\u001b[0m │ \u001b[36m      3\u001b[0m │ \u001b[36m      4\u001b[0m │ \u001b[36m      5\u001b[0m │ \u001b[32m▇ ▇ ▇▇ \u001b[0m │  │\n",
              "│ │ \u001b[38;5;141mOwner_Count   \u001b[0m │ \u001b[36m  0\u001b[0m │ \u001b[36m    0\u001b[0m │ \u001b[36m   2.991\u001b[0m │ \u001b[36m  1.423\u001b[0m │ \u001b[36m    1\u001b[0m │ \u001b[36m     2\u001b[0m │ \u001b[36m      3\u001b[0m │ \u001b[36m      4\u001b[0m │ \u001b[36m      5\u001b[0m │ \u001b[32m▇▇ ▇▇▇ \u001b[0m │  │\n",
              "│ │ \u001b[38;5;141mPrice         \u001b[0m │ \u001b[36m  0\u001b[0m │ \u001b[36m    0\u001b[0m │ \u001b[36m    8853\u001b[0m │ \u001b[36m   3113\u001b[0m │ \u001b[36m 2000\u001b[0m │ \u001b[36m  6646\u001b[0m │ \u001b[36m   8858\u001b[0m │ \u001b[36m  11090\u001b[0m │ \u001b[36m  18300\u001b[0m │ \u001b[32m ▃▆▇▆▂ \u001b[0m │  │\n",
              "│ └────────────────┴─────┴───────┴──────────┴─────────┴───────┴────────┴─────────┴─────────┴─────────┴─────────┘  │\n",
              "│ \u001b[3m                                                    string                                                    \u001b[0m  │\n",
              "│ ┏━━━━━━━━━━━┳━━━━┳━━━━━━┳━━━━━━━━━━┳━━━━━━━━━━━┳━━━━━━━━━━━┳━━━━━━━━━━━┳━━━━━━━━━━━━┳━━━━━━━━━━━┳━━━━━━━━━━━━┓  │\n",
              "│ ┃\u001b[1m           \u001b[0m┃\u001b[1m    \u001b[0m┃\u001b[1m      \u001b[0m┃\u001b[1m          \u001b[0m┃\u001b[1m           \u001b[0m┃\u001b[1m           \u001b[0m┃\u001b[1m           \u001b[0m┃\u001b[1m \u001b[0m\u001b[1mchars per \u001b[0m\u001b[1m \u001b[0m┃\u001b[1m \u001b[0m\u001b[1mwords per\u001b[0m\u001b[1m \u001b[0m┃\u001b[1m \u001b[0m\u001b[1mtotal     \u001b[0m\u001b[1m \u001b[0m┃  │\n",
              "│ ┃\u001b[1m \u001b[0m\u001b[1mcolumn   \u001b[0m\u001b[1m \u001b[0m┃\u001b[1m \u001b[0m\u001b[1mNA\u001b[0m\u001b[1m \u001b[0m┃\u001b[1m \u001b[0m\u001b[1mNA %\u001b[0m\u001b[1m \u001b[0m┃\u001b[1m \u001b[0m\u001b[1mshortest\u001b[0m\u001b[1m \u001b[0m┃\u001b[1m \u001b[0m\u001b[1mlongest  \u001b[0m\u001b[1m \u001b[0m┃\u001b[1m \u001b[0m\u001b[1mmin      \u001b[0m\u001b[1m \u001b[0m┃\u001b[1m \u001b[0m\u001b[1mmax      \u001b[0m\u001b[1m \u001b[0m┃\u001b[1m \u001b[0m\u001b[1mrow       \u001b[0m\u001b[1m \u001b[0m┃\u001b[1m \u001b[0m\u001b[1mrow      \u001b[0m\u001b[1m \u001b[0m┃\u001b[1m \u001b[0m\u001b[1mwords     \u001b[0m\u001b[1m \u001b[0m┃  │\n",
              "│ ┡━━━━━━━━━━━╇━━━━╇━━━━━━╇━━━━━━━━━━╇━━━━━━━━━━━╇━━━━━━━━━━━╇━━━━━━━━━━━╇━━━━━━━━━━━━╇━━━━━━━━━━━╇━━━━━━━━━━━━┩  │\n",
              "│ │ \u001b[38;5;141mBrand    \u001b[0m │ \u001b[36m 0\u001b[0m │ \u001b[36m   0\u001b[0m │ \u001b[38;5;141mKia     \u001b[0m │ \u001b[38;5;141mVolkswage\u001b[0m │ \u001b[38;5;141mAudi     \u001b[0m │ \u001b[38;5;141mVolkswage\u001b[0m │ \u001b[36m      5.89\u001b[0m │ \u001b[36m        1\u001b[0m │ \u001b[36m     10000\u001b[0m │  │\n",
              "│ │           │    │      │          │ \u001b[38;5;141mn        \u001b[0m │           │ \u001b[38;5;141mn        \u001b[0m │            │           │            │  │\n",
              "│ │ \u001b[38;5;141mModel    \u001b[0m │ \u001b[36m 0\u001b[0m │ \u001b[36m   0\u001b[0m │ \u001b[38;5;141mQ5      \u001b[0m │ \u001b[38;5;141mSportage \u001b[0m │ \u001b[38;5;141m3 Series \u001b[0m │ \u001b[38;5;141mX5       \u001b[0m │ \u001b[36m       5.4\u001b[0m │ \u001b[36m      1.1\u001b[0m │ \u001b[36m     10688\u001b[0m │  │\n",
              "│ │ \u001b[38;5;141mFuel_Type\u001b[0m │ \u001b[36m 0\u001b[0m │ \u001b[36m   0\u001b[0m │ \u001b[38;5;141mDiesel  \u001b[0m │ \u001b[38;5;141mElectric \u001b[0m │ \u001b[38;5;141mDiesel   \u001b[0m │ \u001b[38;5;141mPetrol   \u001b[0m │ \u001b[36m      6.53\u001b[0m │ \u001b[36m        1\u001b[0m │ \u001b[36m     10000\u001b[0m │  │\n",
              "│ │ \u001b[38;5;141mTransmiss\u001b[0m │ \u001b[36m 0\u001b[0m │ \u001b[36m   0\u001b[0m │ \u001b[38;5;141mManual  \u001b[0m │ \u001b[38;5;141mSemi-Auto\u001b[0m │ \u001b[38;5;141mAutomatic\u001b[0m │ \u001b[38;5;141mSemi-Auto\u001b[0m │ \u001b[36m      9.64\u001b[0m │ \u001b[36m        1\u001b[0m │ \u001b[36m     10000\u001b[0m │  │\n",
              "│ │ \u001b[38;5;141mion      \u001b[0m │    │      │          │ \u001b[38;5;141mmatic    \u001b[0m │           │ \u001b[38;5;141mmatic    \u001b[0m │            │           │            │  │\n",
              "│ └───────────┴────┴──────┴──────────┴───────────┴───────────┴───────────┴────────────┴───────────┴────────────┘  │\n",
              "╰────────────────────────────────────────────────────── End ──────────────────────────────────────────────────────╯\n"
            ]
          },
          "metadata": {},
          "output_type": "display_data"
        }
      ],
      "source": [
        "# Using skimpy to summarize the dataset\n",
        "skim(df)"
      ]
    },
    {
      "cell_type": "code",
      "execution_count": null,
      "metadata": {},
      "outputs": [],
      "source": [
        "dfSummary(df)"
      ]
    }
  ],
  "metadata": {
    "colab": {
      "provenance": []
    },
    "kernelspec": {
      "display_name": "Python 3",
      "name": "python3"
    },
    "language_info": {
      "codemirror_mode": {
        "name": "ipython",
        "version": 3
      },
      "file_extension": ".py",
      "mimetype": "text/x-python",
      "name": "python",
      "nbconvert_exporter": "python",
      "pygments_lexer": "ipython3",
      "version": "3.12.8"
    }
  },
  "nbformat": 4,
  "nbformat_minor": 0
}
